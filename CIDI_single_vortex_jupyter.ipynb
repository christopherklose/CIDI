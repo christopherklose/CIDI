{
 "cells": [
  {
   "cell_type": "markdown",
   "id": "65a25304-f502-4129-a98b-bd7cc5d8d381",
   "metadata": {},
   "source": [
    "# Initialize"
   ]
  },
  {
   "cell_type": "markdown",
   "id": "ecac9516-2055-4cbd-a174-efca727565a8",
   "metadata": {},
   "source": [
    "## Basic libraries"
   ]
  },
  {
   "cell_type": "code",
   "execution_count": 5,
   "id": "19cb43d2-82f0-45d4-8b04-0450ecf6ca83",
   "metadata": {},
   "outputs": [
    {
     "name": "stdout",
     "output_type": "stream",
     "text": [
      "GPU available\n"
     ]
    },
    {
     "name": "stderr",
     "output_type": "stream",
     "text": [
      "WARNING:silx.opencl.common:Unable to import pyOpenCl. Please install it from: https://pypi.org/project/pyopencl\n"
     ]
    }
   ],
   "source": [
    "import os\n",
    "from os.path import join\n",
    "\n",
    "import numpy as np\n",
    "import scipy as sp\n",
    "#import pyqtgraph_extended as pg\n",
    "import matplotlib.pyplot as plt\n",
    "from matplotlib import pyplot\n",
    "#import holography\n",
    "import array as array\n",
    "from scipy import signal\n",
    "\n",
    "import sys\n",
    "sys.path.append(\"C:\\\\_D\\\\python_codes\\\\analysis_code\")\n",
    "#import fthtools.masks as masks\n",
    "#import fthtools.fth as fth\n",
    "#import fthtools.PhaseRetrieval as PhR\n",
    "import matplotlib.image as mpimg\n",
    "\n",
    "# Self-written libraries\n",
    "sys.path.append(join(os.getcwd(), \"library\"))\n",
    "import mask_lib\n",
    "import helper_functions as helper\n",
    "import interactive\n",
    "from interactive import cimshow"
   ]
  },
  {
   "cell_type": "markdown",
   "id": "d4e6a5b2-fe26-4463-911e-7f9b75d22a4c",
   "metadata": {},
   "source": [
    "## Custom functions"
   ]
  },
  {
   "cell_type": "code",
   "execution_count": 6,
   "id": "e7bad53a-931b-45cd-8d69-e0d74249b0c6",
   "metadata": {},
   "outputs": [],
   "source": [
    "##Function to define stochastic noise\n",
    "def gauss_2D(xx,yy,amp,sigma, x0,y0):\n",
    "    return amp*np.exp(-((xx-x0)**2+(yy-y0)**2)/(sigma)**2)\n",
    "\n",
    "##Function to convert rgb image to gray scale\n",
    "def rgb2gray(rgb):\n",
    "    return np.dot(rgb[...,:3], [0.2989, 0.5870, 0.1140])"
   ]
  },
  {
   "cell_type": "code",
   "execution_count": null,
   "id": "8728464c-53f8-4a3d-863b-298b9b032be5",
   "metadata": {},
   "outputs": [],
   "source": []
  }
 ],
 "metadata": {
  "kernelspec": {
   "display_name": "Python [conda env:klose-2309-cuda_ck]",
   "language": "python",
   "name": "conda-env-klose-2309-cuda_ck-py"
  },
  "language_info": {
   "codemirror_mode": {
    "name": "ipython",
    "version": 3
   },
   "file_extension": ".py",
   "mimetype": "text/x-python",
   "name": "python",
   "nbconvert_exporter": "python",
   "pygments_lexer": "ipython3",
   "version": "3.11.5"
  }
 },
 "nbformat": 4,
 "nbformat_minor": 5
}
