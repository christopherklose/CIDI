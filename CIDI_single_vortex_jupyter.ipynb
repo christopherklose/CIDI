{
 "cells": [
  {
   "cell_type": "markdown",
   "id": "65a25304-f502-4129-a98b-bd7cc5d8d381",
   "metadata": {},
   "source": [
    "# Initialize"
   ]
  },
  {
   "cell_type": "markdown",
   "id": "ecac9516-2055-4cbd-a174-efca727565a8",
   "metadata": {},
   "source": [
    "## Basic libraries"
   ]
  },
  {
   "cell_type": "code",
   "execution_count": null,
   "id": "19cb43d2-82f0-45d4-8b04-0450ecf6ca83",
   "metadata": {},
   "outputs": [],
   "source": [
    "import os\n",
    "from os.path import join\n",
    "from tqdm import tqdm\n",
    "\n",
    "import numpy as np\n",
    "import scipy as sp\n",
    "#import pyqtgraph_extended as pg\n",
    "import matplotlib.pyplot as plt\n",
    "from matplotlib import pyplot\n",
    "from matplotlib.colors import LogNorm\n",
    "#import holography\n",
    "import array as array\n",
    "from scipy import signal\n",
    "\n",
    "import sys\n",
    "#import fthtools.masks as masks\n",
    "#import fthtools.fth as fth\n",
    "#import fthtools.PhaseRetrieval as PhR\n",
    "import matplotlib.image as mpimg\n",
    "\n",
    "# Self-written libraries\n",
    "sys.path.append(join(os.getcwd(), \"library\"))\n",
    "import mask_lib\n",
    "import helper_functions as helper\n",
    "import interactive\n",
    "from interactive import cimshow\n",
    "\n",
    "# Correct phase retrieval library\n",
    "from importlib.util import spec_from_loader, module_from_spec\n",
    "from importlib.machinery import SourceFileLoader \n",
    "spec = spec_from_loader(\"module.name\", SourceFileLoader(\"module.name\", join(os.getcwd(), \"paper_analysis_code\",\"analysis_code\",\"fthtools\",\"PhaseRetrieval.py\")))\n",
    "PhR = module_from_spec(spec)\n",
    "spec.loader.exec_module(PhR)"
   ]
  },
  {
   "cell_type": "code",
   "execution_count": null,
   "id": "61bb1200-c51a-42dc-8c6d-a35d100614a7",
   "metadata": {},
   "outputs": [],
   "source": [
    "# interactive plotting\n",
    "import ipywidgets\n",
    "\n",
    "%matplotlib widget\n",
    "\n",
    "plt.rcParams[\"figure.constrained_layout.use\"] = True  # replaces plt.tight_layout\n",
    "\n",
    "# Auto formatting of cells\n",
    "#%load_ext jupyter_black"
   ]
  },
  {
   "cell_type": "markdown",
   "id": "d4e6a5b2-fe26-4463-911e-7f9b75d22a4c",
   "metadata": {},
   "source": [
    "## Custom functions"
   ]
  },
  {
   "cell_type": "code",
   "execution_count": null,
   "id": "e7bad53a-931b-45cd-8d69-e0d74249b0c6",
   "metadata": {},
   "outputs": [],
   "source": [
    "##Function to define stochastic noise\n",
    "def gauss_2D(xx,yy,amp,sigma, x0,y0):\n",
    "    return amp*np.exp(-((xx-x0)**2+(yy-y0)**2)/(sigma)**2)\n",
    "\n",
    "##Function to convert rgb image to gray scale\n",
    "def rgb2gray(rgb):\n",
    "    return np.dot(rgb[...,:3], [0.2989, 0.5870, 0.1140])"
   ]
  },
  {
   "cell_type": "markdown",
   "id": "596cfdfd-f633-4e49-99db-e3c42a62b84c",
   "metadata": {},
   "source": [
    "# Loading of files"
   ]
  },
  {
   "cell_type": "code",
   "execution_count": null,
   "id": "0a3e0909-90a2-4297-8780-33a38002fc72",
   "metadata": {},
   "outputs": [],
   "source": [
    "## import image\n",
    "img = mpimg.imread(join(os.getcwd(),'paper_analysis_code','sample_image.png'))\n",
    "image1 = rgb2gray(img)\n",
    "\n",
    "cimshow(image1)"
   ]
  },
  {
   "cell_type": "markdown",
   "id": "06089169-de98-4c30-873a-d0728ecbb0ae",
   "metadata": {},
   "source": [
    "# Create holography aperture mask"
   ]
  },
  {
   "cell_type": "code",
   "execution_count": null,
   "id": "11265e04-aa71-4318-b314-125743c73e3f",
   "metadata": {},
   "outputs": [],
   "source": [
    "## Define circular matrix\n",
    "pixeln=int(np.sqrt(image1.size))\n",
    "clip_radius=40\n",
    "rows, cols = pixeln,pixeln\n",
    "row_vec = np.double(np.arange(0,rows))\n",
    "col_vec = np.double(np.arange(0,cols))\n",
    "yy, xx= np.meshgrid(rows//2-col_vec, cols//2-row_vec)\n",
    "mask =1-((xx)**2 + (yy)**2>clip_radius**2)\n",
    "mask1= mask\n",
    "mask1\n",
    "\n",
    "cimshow(mask)"
   ]
  },
  {
   "cell_type": "code",
   "execution_count": null,
   "id": "c78beac6-1e7e-4b5b-b7d8-0a7b1523f8c7",
   "metadata": {},
   "outputs": [],
   "source": [
    "## define holography hole\n",
    "r_hole_radius1=2\n",
    "r_hole_radius2=2\n",
    "location_r1x= 180\n",
    "location_r1y= 150\n",
    "location_r2x= 100\n",
    "location_r2y= -150\n",
    "holography_hole1=(1-((xx+location_r1x)**2 + (yy+location_r1y)**2>r_hole_radius1**2))*1\n",
    "holography_hole2=(1-((xx+location_r2x)**2 + (yy+location_r2y)**2>r_hole_radius2**2))*1\n",
    "holography_hole=holography_hole1+holography_hole2\n",
    "\n",
    "cimshow(holography_hole)"
   ]
  },
  {
   "cell_type": "code",
   "execution_count": null,
   "id": "2cb91836-f4d9-40d7-9171-eea95afca58a",
   "metadata": {},
   "outputs": [],
   "source": [
    "##Add holography hole\n",
    "image1=image1*mask+holography_hole\n",
    "\n",
    "##Define phase\n",
    "phase1= (100*(xx+yy)/(pixeln*np.pi))*mask1\n",
    "\n",
    "cimshow(image1)\n",
    "cimshow(phase1)"
   ]
  },
  {
   "cell_type": "markdown",
   "id": "25c53b8c-cc6b-4f4d-a116-223508c36e06",
   "metadata": {},
   "source": [
    "# Calc holograms"
   ]
  },
  {
   "cell_type": "code",
   "execution_count": null,
   "id": "cd475dfc-6f89-4510-9982-80c30867e902",
   "metadata": {},
   "outputs": [],
   "source": [
    "##number of diffraction pattern available\n",
    "n=100\n",
    "\n",
    "##maximum number of vortices present in the system\n",
    "m=1\n",
    "\n",
    "## Initialization of matrices\n",
    "incoherent_CDI=np.zeros_like(mask)\n",
    "av_pattern=np.zeros_like(mask)\n",
    "ER2s=np.zeros_like(mask, dtype=complex)\n",
    "EsR1=np.zeros_like(mask, dtype=complex)\n",
    "ER1s=np.zeros_like(mask, dtype=complex)\n",
    "EsR2=np.zeros_like(mask, dtype=complex)\n",
    "R1R2s=np.zeros_like(mask, dtype=complex)\n",
    "R1sR2=np.zeros_like(mask, dtype=complex)\n",
    "Sktav=np.zeros_like(mask)\n",
    "FER2s=np.zeros_like(mask)\n",
    "FEsR1=np.zeros_like(mask)\n",
    "FER1s=np.zeros_like(mask)\n",
    "FEsR2=np.zeros_like(mask)\n",
    "FR1R2s=np.zeros_like(mask)\n",
    "FR1sR2=np.zeros_like(mask)\n",
    "F_Sktav=np.zeros_like(mask)\n",
    "F_fluctuation=np.zeros_like(mask)\n",
    "F_fluctuation_mean=np.zeros_like(mask)\n",
    "F_fluctuation_sq_mean=np.zeros_like(mask)\n",
    "FAutoCorl1=np.zeros_like(mask)\n",
    "FAutoCorl=np.zeros_like(mask)\n",
    "FAutoCorlN=np.zeros_like(mask)\n",
    "FAutoCorlN2=np.zeros_like(mask)\n",
    "Av_fluctuation=np.zeros_like(mask)\n",
    "AvSq_fluctuation=np.zeros_like(mask)\n",
    "\n",
    "mask_scatter = np.ones_like(mask) #for CDI part\n",
    "\n",
    "##Averaging dataset\n",
    "for ii in tqdm(np.arange(n)):\n",
    "    #Put gaussian at random position\n",
    "    fluctuation=np.zeros_like(mask)\n",
    "    x_f=np.random.random()*80-40\n",
    "    y_f=np.random.random()*80-40\n",
    "    fluctuation=gauss_2D(xx,yy,1,3,x_f,y_f)\n",
    "    fluctuation=fluctuation*mask\n",
    "\n",
    "    # Ensemble average of fluctuations\n",
    "    Av_fluctuation=Av_fluctuation+fluctuation\n",
    "    \n",
    "    # Put gaussian on top of object\n",
    "    pattern=1*fluctuation+1*image1*(np.exp(0.0j*(phase1))) #single\n",
    "    av_pattern= av_pattern+ pattern #ensemble avg\n",
    "\n",
    "    # Calc diffraction pattern\n",
    "    diffraction=np.fft.fftshift(np.fft.ifft2(np.fft.fftshift(pattern))) #single amplitude\n",
    "    incoherent_CDI=incoherent_CDI+np.abs(diffraction)**2 #ensemble avg of intensities\n",
    "\n",
    "    # Calc diffraction only of gaussian\n",
    "    F_fluctuation=np.fft.fftshift(np.fft.ifft2(np.fft.ifftshift(fluctuation)))\n",
    "\n",
    "    # Add to ensemble averages\n",
    "    F_fluctuation_mean=F_fluctuation_mean+(F_fluctuation) # amplitudes\n",
    "    F_fluctuation_sq_mean=F_fluctuation_sq_mean+np.abs(F_fluctuation)**2 # intensity\n",
    "\n",
    "##Reconstruction of averaged hologram\n",
    "hologram2=np.fft.fftshift(np.fft.fft2(np.fft.ifftshift(incoherent_CDI/n)))\n",
    "F_stochastic_numerical=np.abs(F_fluctuation_sq_mean/n)-np.abs(F_fluctuation_mean/n)**2"
   ]
  },
  {
   "cell_type": "code",
   "execution_count": null,
   "id": "be89b9ae-8b5a-43e0-83c3-ef0083d87fcb",
   "metadata": {},
   "outputs": [],
   "source": [
    "# Plotting of a lot of stuff\n",
    "fig, ax = plt.subplots(3,3,figsize=(9,9),sharex=True,sharey=True)\n",
    "\n",
    "ax[0,0].set_title(\"Single fluctuation in real space\",fontsize=8)\n",
    "tmp = fluctuation.copy()\n",
    "vmin, vmax = np.percentile(tmp[tmp!=0], [1,99])\n",
    "ax[0,0].imshow(tmp,vmin=vmin, vmax = vmax)\n",
    "\n",
    "ax[0,1].set_title(\"Single pattern in real space\",fontsize=8)\n",
    "tmp = pattern.real.copy()\n",
    "vmin, vmax = np.percentile(tmp[tmp!=0], [1,99])\n",
    "ax[0,1].imshow(tmp,vmin=vmin, vmax = vmax)\n",
    "\n",
    "ax[1,0].set_title(\"Ensemble fluctuations in real space\",fontsize=8)\n",
    "tmp = Av_fluctuation.copy()\n",
    "vmin, vmax = np.percentile(tmp[tmp!=0], [1,99])\n",
    "ax[1,0].imshow(tmp,vmin=vmin, vmax = vmax)\n",
    "\n",
    "ax[1,1].set_title(\"Ensemble pattern in real space\",fontsize=8)\n",
    "tmp = av_pattern.real.copy()\n",
    "vmin, vmax = np.percentile(tmp[tmp!=0], [1,99])\n",
    "ax[1,1].imshow(tmp,vmin=vmin, vmax = vmax)\n",
    "\n",
    "ax[0,2].set_title(\"Single diffraction in fourier space\",fontsize=8)\n",
    "tmp = np.abs(diffraction)**2\n",
    "vmin, vmax = np.percentile(tmp[tmp!=0], [.1,99.9])\n",
    "ax[0,2].imshow(tmp,norm = LogNorm(vmin=vmin, vmax = vmax))\n",
    "\n",
    "ax[1,2].set_title(\"Ensemble diffraction in fourier space\",fontsize=8)\n",
    "tmp = incoherent_CDI.copy()\n",
    "vmin, vmax = np.percentile(tmp[tmp!=0], [.1,99.9])\n",
    "ax[1,2].imshow(tmp,norm = LogNorm(vmin=vmin, vmax = vmax))\n",
    "\n",
    "ax[2,0].set_title(\"Ensemble diffract amplitudes squared of gaussian fourier space\",fontsize=6)\n",
    "tmp = np.abs(F_fluctuation_mean)**2\n",
    "vmin, vmax = np.percentile(tmp[tmp!=0], [.1,99.9])\n",
    "ax[2,0].imshow(tmp,norm = LogNorm(vmin=vmin, vmax = vmax))\n",
    "\n",
    "ax[2,1].set_title(\"Ensemble diffract intensities of  gaussian fourier space\",fontsize=6)\n",
    "tmp = np.abs(F_fluctuation_sq_mean)/n\n",
    "vmin, vmax = np.percentile(tmp[tmp!=0], [.1,99.9])\n",
    "ax[2,1].imshow(tmp,norm = LogNorm(vmin=vmin, vmax = vmax))\n",
    "\n",
    "ax[2,2].set_title(\"Stochastic contribution\",fontsize=8)\n",
    "tmp = np.abs(F_fluctuation_sq_mean/n)-np.abs(F_fluctuation_mean/n)**2\n",
    "vmin, vmax = np.percentile(tmp[tmp!=0], [.1,99.9])\n",
    "ax[2,2].imshow(tmp,norm = LogNorm(vmin=vmin, vmax = vmax))\n"
   ]
  },
  {
   "cell_type": "markdown",
   "id": "bfa6912e-6a96-4819-a15a-9c14e43c499e",
   "metadata": {},
   "source": [
    "# Extraction of auto-correlations and cross-correlations"
   ]
  },
  {
   "cell_type": "markdown",
   "id": "c75503e4-5e33-4ad2-b6f3-eb9c9e018e56",
   "metadata": {},
   "source": [
    "## Object cross-correlations"
   ]
  },
  {
   "cell_type": "code",
   "execution_count": null,
   "id": "0bbefec8-221e-4be0-b78b-762fb5a95585",
   "metadata": {},
   "outputs": [],
   "source": [
    "RadER1= clip_radius+r_hole_radius1+10\n",
    "RadER2= clip_radius+r_hole_radius2+10\n",
    "RadRR= r_hole_radius1+r_hole_radius2+10\n",
    "##E*R1\n",
    "EsR1[((rows//2+location_r1x)-RadER1):((rows//2+location_r1x)+RadER1),((cols//2+location_r1y)-RadER1):((cols//2+location_r1y)+RadER1)]=hologram2[((rows//2+location_r1x)-RadER1):((rows//2+location_r1x)+RadER1),((cols//2+location_r1y)-RadER1):((cols//2+location_r1y)+RadER1)]\n",
    "FEsR1=np.fft.fftshift(np.fft.ifft2(np.fft.ifftshift( EsR1)))\n",
    "##ER1*\n",
    "ER1s[((rows//2-location_r1x)-RadER1):((rows//2-location_r1x)+RadER1),((cols//2-location_r1y)-RadER1):((cols//2-location_r1y)+RadER1)]=hologram2[((rows//2-location_r1x)-RadER1):((rows//2-location_r1x)+RadER1),((cols//2-location_r1y)-RadER1):((cols//2-location_r1y)+RadER1)]\n",
    "FER1s=np.fft.fftshift(np.fft.ifft2(np.fft.ifftshift(ER1s)))\n",
    "##E*R2\n",
    "EsR2[((rows//2+location_r2x)-RadER2):((rows//2+location_r2x)+RadER2),((cols//2+location_r2y)-RadER2):((cols//2+location_r2y)+RadER2)]=hologram2[((rows//2+location_r2x)-RadER2):((rows//2+location_r2x)+RadER2),((cols//2+location_r2y)-RadER2):((cols//2+location_r2y)+RadER2)]\n",
    "FEsR2=np.fft.fftshift(np.fft.ifft2(np.fft.ifftshift(EsR2)))\n",
    "##ER2*\n",
    "ER2s[((rows//2-location_r2x)-RadER2):((rows//2-location_r2x)+RadER2),((cols//2-location_r2y)-RadER2):((cols//2-location_r2y)+RadER2),]=hologram2[((rows//2-location_r2x)-RadER2):((rows//2-location_r2x)+RadER2),((cols//2-location_r2y)-RadER2):((cols//2-location_r2y)+RadER2)]\n",
    "FER2s=np.fft.fftshift(np.fft.ifft2(np.fft.ifftshift( ER2s)))"
   ]
  },
  {
   "cell_type": "code",
   "execution_count": null,
   "id": "4fa3dcad-3ee3-43a9-b003-4335b3ea5587",
   "metadata": {},
   "outputs": [],
   "source": [
    "fig, ax = cimshow([EsR1,ER1s,EsR2,ER2s])\n",
    "ax.set_title(\"Selected cross-correlation areas of recos\")"
   ]
  },
  {
   "cell_type": "code",
   "execution_count": null,
   "id": "5acbdf9e-463f-456e-a682-592547538b35",
   "metadata": {},
   "outputs": [],
   "source": [
    "fig, ax = cimshow(np.abs(np.array([FEsR1,FER1s,FEsR2,FER2s])))\n",
    "ax.set_title(\"Diffraction of selected cross-correlation areas of recos\")"
   ]
  },
  {
   "cell_type": "markdown",
   "id": "14b15d40-afc0-4d5d-b3ae-46898d915fdc",
   "metadata": {},
   "source": [
    "## Reference cross-correlations"
   ]
  },
  {
   "cell_type": "code",
   "execution_count": null,
   "id": "d8ef4e77-30a5-499a-a283-51a469a58c12",
   "metadata": {},
   "outputs": [],
   "source": [
    "##R1R2*\n",
    "R1R2s[rows//2+(location_r1x-location_r2x)-RadRR:rows//2+(location_r1x-location_r2x)+RadRR, cols//2+(location_r1y-location_r2y)-RadRR:cols//2+(location_r1y-location_r2y)+RadRR]=hologram2[rows//2+(location_r1x-location_r2x)-RadRR:rows//2+(location_r1x-location_r2x)+RadRR, cols//2+(location_r1y-location_r2y)-RadRR:cols//2+(location_r1y-location_r2y)+RadRR]\n",
    "FR1R2s=np.fft.fftshift(np.fft.ifft2(np.fft.ifftshift(R1R2s)))\n",
    "\n",
    "##R1*R2\n",
    "R1sR2[rows//2-(location_r1x-location_r2x)-RadRR:rows//2-(location_r1x-location_r2x)+RadRR, cols//2-(location_r1y-location_r2y)-RadRR:cols//2-(location_r1y-location_r2y)+RadRR]=hologram2[rows//2-(location_r1x-location_r2x)-RadRR:rows//2-(location_r1x-location_r2x)+RadRR, cols//2-(location_r1y-location_r2y)-RadRR:cols//2-(location_r1y-location_r2y)+RadRR]\n",
    "FR1sR2=np.fft.fftshift(np.fft.ifft2(np.fft.ifftshift(R1sR2)))\n"
   ]
  },
  {
   "cell_type": "code",
   "execution_count": null,
   "id": "772cc516-81b2-4f45-8212-14b2280b650e",
   "metadata": {},
   "outputs": [],
   "source": [
    "fig, ax = cimshow([R1R2s,R1sR2])\n",
    "ax.set_title(\"Selected cross-correlation areas of references\")"
   ]
  },
  {
   "cell_type": "code",
   "execution_count": null,
   "id": "7b0d3dbe-142d-4af4-bbcf-0df911b76755",
   "metadata": {},
   "outputs": [],
   "source": [
    "fig, ax = cimshow(np.abs(np.array([FR1R2s,FR1sR2])))\n",
    "ax.set_title(\"Diffraction of selected cross-correlation areas of references\")"
   ]
  },
  {
   "cell_type": "markdown",
   "id": "3465f04d-624f-4fc5-bfb0-186eba5da99a",
   "metadata": {},
   "source": [
    "## Calc auto-correlations"
   ]
  },
  {
   "cell_type": "code",
   "execution_count": null,
   "id": "5e886f8e-4fa2-49a8-91eb-a51aa5eb99b4",
   "metadata": {},
   "outputs": [],
   "source": [
    "##|E|^2\n",
    "FAutoCorl=np.abs(np.sqrt((FER2s*FEsR1*FER1s*FEsR2)/(FR1R2s*FR1sR2)))\n",
    "\n",
    "##|R1|^2\n",
    "FR1R1s=np.abs((FER1s*FEsR1)/FAutoCorl)\n",
    "\n",
    "##|R2|^2\n",
    "FR2R2s=np.abs((FER2s*FEsR2)/FAutoCorl)"
   ]
  },
  {
   "cell_type": "code",
   "execution_count": null,
   "id": "1c4b2a4a-81fe-4b70-8584-008de3b6a9fd",
   "metadata": {},
   "outputs": [],
   "source": [
    "#Plotting\n",
    "fig, ax = cimshow(FAutoCorl)\n",
    "ax.set_title(\"Auto correlation reco\")"
   ]
  },
  {
   "cell_type": "code",
   "execution_count": null,
   "id": "ba5ff45c-1d79-4395-a798-512ae15b3f5e",
   "metadata": {},
   "outputs": [],
   "source": [
    "fig, ax = cimshow([FR1R1s,FR2R2s])\n",
    "ax.set_title(\"Auto correlation references\")"
   ]
  },
  {
   "cell_type": "markdown",
   "id": "e3f1a150-d7fc-4409-880d-af4dd7e6a847",
   "metadata": {},
   "source": [
    "## Stochastic term from CIDI"
   ]
  },
  {
   "cell_type": "code",
   "execution_count": null,
   "id": "40851692-1477-4c46-936e-e3ced0e71ea6",
   "metadata": {},
   "outputs": [],
   "source": [
    "##Stochastic term from CIDI\n",
    "F_Sktav=incoherent_CDI/n-(FAutoCorl+FR1R1s+FR2R2s)-(FR1R2s+FR1sR2+FER2s+FEsR1+FER1s+FEsR2)\n",
    "\n",
    "# Plotting\n",
    "fig, ax = cimshow(F_Sktav)\n",
    "ax.set_title(\"Stochastic term from CIDI\")"
   ]
  },
  {
   "cell_type": "markdown",
   "id": "2217ebc7-85e1-4d45-9e01-b2f30eb9b061",
   "metadata": {},
   "source": [
    "# CDI"
   ]
  },
  {
   "cell_type": "code",
   "execution_count": null,
   "id": "781199bd-a474-4921-b257-26bea9e6f590",
   "metadata": {},
   "outputs": [],
   "source": [
    "##Image of the isolated stochastic term in object plane (Used to define proper mask to perform CDI)\n",
    "Sktav=np.fft.fftshift(np.fft.fft2(np.fft.ifftshift(F_Sktav)))\n",
    "support=(np.abs(Sktav) > 2e-6).astype(int)\n",
    "\n",
    "## Square root of diffrction pattern for\n",
    "SQRT_F_Sktav=np.abs(F_Sktav**0.5)\n",
    "\n",
    "##Adding mask to numerical zero errors\n",
    "mask_scatter=1-((xx)**2 + (yy)**2>230**2)+((xx)**2 + (yy)**2>240**2)\n",
    "SQRT_F_Sktav=(SQRT_F_Sktav*mask_scatter)\n",
    "\n",
    "initial_guess= np.fft.fftshift(np.fft.ifft2(np.fft.ifftshift(mask)))\n",
    "\n",
    "x = np.clip(SQRT_F_Sktav, 0, None)\n",
    "y = np.clip(np.abs(initial_guess), 0, None)\n",
    "res = sp.stats.linregress(x.flatten(), y.flatten())\n",
    "initial_guess -= res.intercept\n",
    "initial_guess /= res.slope\n",
    "\n",
    "initial_guess = (SQRT_F_Sktav  * np.exp(1j * np.angle(initial_guess)))\n",
    "\n",
    "#Plot\n",
    "fig, ax = plt.subplots(1,3,figsize=(12,4),sharex=True,sharey=True)\n",
    "\n",
    "tmp = np.abs(Sktav.copy())\n",
    "vmin, vmax = np.percentile(tmp,[.1,99.9])\n",
    "ax[0].imshow(support)\n",
    "ax[0].imshow(tmp, vmin = vmin, vmax = vmax,alpha=0.5)\n",
    "ax[0].set_title(\"Real space image with support mask overlay\")\n",
    "\n",
    "ax[1].imshow(support)\n",
    "ax[1].set_title(\"Support mask\")\n",
    "\n",
    "tmp = np.abs(initial_guess.copy())\n",
    "vmin, vmax = np.percentile(tmp,[.1,99.9])\n",
    "ax[2].imshow(tmp)\n",
    "ax[2].set_title(\"Initial guess\")\n"
   ]
  },
  {
   "cell_type": "code",
   "execution_count": null,
   "id": "ed74a626-cdb6-4c6d-a79d-ddb24fe73d2f",
   "metadata": {},
   "outputs": [],
   "source": [
    "SW_freq = 1e4  # disable\n",
    "Nit = 500\n",
    "\n",
    "##CDI\n",
    "retrieved_res0, Error_diff_p, Error_supp, supportmask = PhR.PhaseRtrv_CPU(\n",
    "    diffract=SQRT_F_Sktav,\n",
    "    mask=support*mask,\n",
    "    mode=\"mine\",\n",
    "    beta_zero=0.5,\n",
    "    Nit=Nit,\n",
    "    beta_mode='arctan',\n",
    "    plot_every=20,\n",
    "    Phase=initial_guess,\n",
    "    # Phase=0,\n",
    "    seed=False,\n",
    "    real_object=False,\n",
    "    # bsmask=0*(1 - mask_scatter),\n",
    "    bsmask=(1 - mask_scatter),\n",
    "    average_img=20,\n",
    "    Fourier_last=True,\n",
    "    SW_freq=SW_freq\n",
    ")\n",
    "\n",
    "# Get fourier transform for image reconstruction\n",
    "ret_pattern = np.fft.ifftshift(np.fft.fft2(np.fft.fftshift(retrieved_res0)))"
   ]
  },
  {
   "cell_type": "code",
   "execution_count": null,
   "id": "c041ff3d-6e7c-4d69-856a-0f6dd297c63e",
   "metadata": {},
   "outputs": [],
   "source": [
    "# Plotting\n",
    "fig, ax = plt.subplots(2,2,sharex=True,sharey=True,figsize=(8,8))\n",
    "tmp = np.abs(retrieved_res0)\n",
    "vmin, vmax = np.percentile(tmp,[1,99])\n",
    "ax[0,0].imshow(tmp)\n",
    "ax[0,0].set_title(\"'diffraction pattern retrieved from CIDI'\",fontsize=8)\n",
    "\n",
    "tmp = np.abs(np.abs(F_stochastic_numerical))\n",
    "vmin, vmax = np.percentile(tmp,[1,99])\n",
    "ax[0,1].imshow(tmp)\n",
    "ax[0,1].set_title(\"diffraction pattern from numerical data\",fontsize=8)\n",
    "\n",
    "tmp = np.abs(np.abs(ret_pattern))\n",
    "vmin, vmax = np.percentile(tmp,[1,99])\n",
    "ax[1,0].imshow(tmp)\n",
    "ax[1,0].set_title(\"Absolute value of retrieved image (object plane) from CIDI\",fontsize=8)\n",
    "\n",
    "tmp = np.abs(fluctuation)\n",
    "vmin, vmax = np.percentile(tmp,[1,99])\n",
    "ax[1,1].imshow(tmp)\n",
    "ax[1,1].set_title(\"Input fluctuation\",fontsize=8)"
   ]
  },
  {
   "cell_type": "code",
   "execution_count": null,
   "id": "747316ce-e3f2-42a9-ba3f-a7f606dcb67e",
   "metadata": {},
   "outputs": [],
   "source": []
  }
 ],
 "metadata": {
  "kernelspec": {
   "display_name": "Python [conda env:klose-2309-cuda_ck]",
   "language": "python",
   "name": "conda-env-klose-2309-cuda_ck-py"
  },
  "language_info": {
   "codemirror_mode": {
    "name": "ipython",
    "version": 3
   },
   "file_extension": ".py",
   "mimetype": "text/x-python",
   "name": "python",
   "nbconvert_exporter": "python",
   "pygments_lexer": "ipython3",
   "version": "3.11.5"
  }
 },
 "nbformat": 4,
 "nbformat_minor": 5
}
